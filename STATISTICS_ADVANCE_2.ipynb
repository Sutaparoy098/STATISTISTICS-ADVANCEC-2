{
  "nbformat": 4,
  "nbformat_minor": 0,
  "metadata": {
    "colab": {
      "provenance": []
    },
    "kernelspec": {
      "name": "python3",
      "display_name": "Python 3"
    },
    "language_info": {
      "name": "python"
    }
  },
  "cells": [
    {
      "cell_type": "markdown",
      "source": [
        "1. Explain the properties of the F-distribution.\n",
        "\n",
        "2. In which types of statistical tests is the F-distribution used, and why is it appropriate for these tests?\n",
        "\n",
        "3. What are the key assumptions required for conducting an F-test to compare the variances of two populations?\n",
        "\n",
        "4. What is the purpose of ANOVA, and how does it differ from a t-test?\n",
        "\n",
        "5. Explain when and why you would use a one-way ANOVA Instead of multiple t-tests when comparing more than two groups.\n",
        "\n",
        "6. Explain how variance is partitioned in ANOVA into between-group variance and within-group variance. How does this partitioning contribute to the calculation of the F-statistic?\n",
        "\n",
        "7. Compare the classical (frequentist) approach to ANOVA with the Bayesian approach. What are the key differences in terms of how they handle uncertainty, parameter estimation, and hypothesis testing?\n",
        "\n",
        "8. Question: You have two sets of data representing the incomes of two different professions:\n",
        "\n",
        "Profession A: 48,52, 55,60, 62\n",
        "\n",
        "Profession B: 145, 50, 55, 52, 47\n",
        "Perform an F-test to determine if the variances of the twe professions incomes are equal. What are your conclusions based on the Fotest?\n",
        "\n",
        "9. Conduct a one-way ANOVA to test whether there are any statistically significant differences in average heights between three different regions with the following data:\n",
        "\n",
        "Region A: [160, 162, 165, 158, 164]\n",
        "\n",
        "Region B: [172, 175, 176, 168, 174)\n",
        "\n",
        "Region C: (180, 182, 179, 185, 183)\n",
        "\n",
        "\n",
        "\n"
      ],
      "metadata": {
        "id": "4bKEPueNMj1S"
      }
    },
    {
      "cell_type": "markdown",
      "source": [
        "ANS-"
      ],
      "metadata": {
        "id": "amr8yrnHHBw8"
      }
    },
    {
      "cell_type": "markdown",
      "source": [
        "1. Explain the properties of the F-distribution.\n",
        "\n",
        "ANS-\n",
        "\n",
        "The F-distribution is:\n",
        "\n",
        "Right-skewed:   It ranges from 0 to positive infinity, and its shape is skewed right, especially with smaller sample sizes.\n",
        "\n",
        "Non-negative:   The values of an F-distribution are always greater than or equal to zero.\n",
        "\n",
        "Dependent on Degrees of Freedom:  It’s defined by two degrees of freedom parameters,\n",
        "𝑑\n",
        "1\n",
        "d\n",
        "1\n",
        "​\n",
        "  and\n",
        "𝑑\n",
        "2\n",
        "d\n",
        "2\n",
        "​\n",
        "\n",
        " , which come from the sample sizes of the groups involved.\n",
        "Used to Compare Variances: It is commonly used in variance analysis, such as ANOVA or tests comparing population variances."
      ],
      "metadata": {
        "id": "9fgM5u1TIfIZ"
      }
    },
    {
      "cell_type": "markdown",
      "source": [
        "2. In which types of statistical tests is the F-distribution used, and why is it appropriate for these tests?\n",
        "\n",
        "ans-\n",
        "\n",
        "The F-distribution is mainly used in:\n",
        "\n",
        "ANOVA (Analysis of Variance): To test if the means of multiple groups are significantly different.\n",
        "F-test for Equality of Variances: To compare the variances of two populations.\n",
        "Regression Analysis: For significance testing of multiple regression coefficients together.\n",
        "Its suitability arises because these tests rely on ratios of variances, which follow an F-distribution under the null hypothesis."
      ],
      "metadata": {
        "id": "zcmGtKDIIsH7"
      }
    },
    {
      "cell_type": "markdown",
      "source": [
        "3. Assumptions for Conducting an F-test\n",
        "\n",
        "ANS-\n",
        "\n",
        "To perform an F-test comparing two variances:\n",
        "\n",
        "Independence: Samples from each group should be independent.\n",
        "\n",
        "Normality: Both populations should be approximately normally distributed.\n",
        "\n",
        "Random Sampling: Samples should be randomly selected from their respective populations"
      ],
      "metadata": {
        "id": "xDs-O4bsJDMY"
      }
    },
    {
      "cell_type": "markdown",
      "source": [
        "4.Purpose of ANOVA and Comparison with t-tests\n",
        "\n",
        "ANS-\n",
        "\n",
        "ANOVA: Tests if there are significant differences among group means, typically when there are more than two groups.\n",
        "\n",
        "t-test: Generally compares the means between only two groups.\n",
        "\n",
        "Difference: ANOVA is more suitable for comparing multiple groups simultaneously to avoid the inflation of Type I error, which can occur when performing multiple t-tests."
      ],
      "metadata": {
        "id": "0KIvmkKMJSql"
      }
    },
    {
      "cell_type": "markdown",
      "source": [
        "5. Why Use One-Way ANOVA Instead of Multiple t-tests\n",
        "Using one-way ANOVA:\n",
        "\n",
        "ANS-\n",
        "\n",
        "Controls the overall Type I error rate by avoiding multiple comparisons.\n",
        "Is more efficient than conducting multiple t-tests, as it tests all groups in one analysis, reducing computational complexity."
      ],
      "metadata": {
        "id": "O69D9qUJJh1m"
      }
    },
    {
      "cell_type": "markdown",
      "source": [
        "6.Variance Partitioning in ANOVA\n",
        "\n",
        "Between-Group Variance: Measures the variation due to the interaction between different group means.\n",
        "\n",
        "Within-Group Variance: Measures the variation within each group due to individual differences.\n",
        "\n",
        "F-Statistic Calculation: The ratio of between-group variance to within-group variance forms the F-statistic. A larger F-statistic suggests that the group means differ more than what would be expected by random chance."
      ],
      "metadata": {
        "id": "6SQFQBaoJvJu"
      }
    },
    {
      "cell_type": "markdown",
      "source": [
        "7. Classical (Frequentist) vs. Bayesian ANOVA\n",
        "\n",
        "Classical ANOVA: Uses a fixed F-distribution based on the sample data to test hypotheses, without directly quantifying uncertainty.\n",
        "\n",
        "Bayesian ANOVA: Incorporates prior information and provides a probability distribution for the parameter estimates, thus offering direct probability statements and a richer view of uncertainty.\n",
        "\n",
        "Hypothesis Testing: Classical ANOVA relies on p-values, while Bayesian ANOVA might provide credible intervals and posterior probabilities."
      ],
      "metadata": {
        "id": "4IPnSFsiJ2n3"
      }
    },
    {
      "cell_type": "code",
      "source": [
        "8.\n",
        "import scipy.stats as stats\n",
        "\n",
        "# Define the two sets of data\n",
        "profession_a = [48, 52, 55, 60, 62]\n",
        "profession_b = [45, 50, 55, 52, 47]\n",
        "\n",
        "# Perform the F-test\n",
        "f_statistic, p_value = stats.f_oneway(profession_a, profession_b)\n",
        "\n",
        "# Set the significance level (alpha)\n",
        "alpha = 0.05\n",
        "\n",
        "# Print the results\n",
        "print(\"F-statistic:\", f_statistic)\n",
        "print(\"p-value:\", p_value)\n",
        "\n",
        "# Interpret the results\n",
        "if p_value < alpha:\n",
        "    print(\"Reject the null hypothesis: The variances of the two professions' incomes are not equal.\")\n",
        "else:\n",
        "    print(\"Fail to reject the null hypothesis: There is not enough evidence to conclude that the variances of the two professions' incomes are different.\")"
      ],
      "metadata": {
        "colab": {
          "base_uri": "https://localhost:8080/"
        },
        "id": "O48zrIUiJ5wL",
        "outputId": "c185cf0f-2e64-4f7f-b934-f95941f09ff2"
      },
      "execution_count": 6,
      "outputs": [
        {
          "output_type": "stream",
          "name": "stdout",
          "text": [
            "F-statistic: 3.232989690721649\n",
            "p-value: 0.10987970118946545\n",
            "Fail to reject the null hypothesis: There is not enough evidence to conclude that the variances of the two professions' incomes are different.\n"
          ]
        }
      ]
    },
    {
      "cell_type": "code",
      "source": [
        "9.\n",
        "import scipy.stats as stats\n",
        "\n",
        "# Define the data for each region\n",
        "region_a = [160, 162, 165, 158, 164]\n",
        "region_b = [172, 175, 170, 168, 174]\n",
        "region_c = [180, 182, 179, 185, 183]\n",
        "\n",
        "# Perform one-way ANOVA\n",
        "f_statistic, p_value = stats.f_oneway(region_a, region_b, region_c)\n",
        "\n",
        "# Set the significance level (alpha)\n",
        "alpha = 0.05\n",
        "\n",
        "# Print the results\n",
        "print(\"F-statistic:\", f_statistic)\n",
        "print(\"p-value:\", p_value)\n",
        "\n",
        "# Interpret the results\n",
        "if p_value < alpha:\n",
        "    print(\"Reject the null hypothesis: There are statistically significant differences in average heights between the regions.\")\n",
        "else:\n",
        "    print(\"Fail to reject the null hypothesis: There is not enough evidence to conclude that there are differences in average heights between the regions.\")"
      ],
      "metadata": {
        "colab": {
          "base_uri": "https://localhost:8080/"
        },
        "id": "DSpz96hdJ_FD",
        "outputId": "e5cca8d4-f7c4-4a4f-aa5a-b693538e09ea"
      },
      "execution_count": 7,
      "outputs": [
        {
          "output_type": "stream",
          "name": "stdout",
          "text": [
            "F-statistic: 67.87330316742101\n",
            "p-value: 2.870664187937026e-07\n",
            "Reject the null hypothesis: There are statistically significant differences in average heights between the regions.\n"
          ]
        }
      ]
    },
    {
      "cell_type": "markdown",
      "source": [],
      "metadata": {
        "id": "DNcUYIWdIn5N"
      }
    }
  ]
}